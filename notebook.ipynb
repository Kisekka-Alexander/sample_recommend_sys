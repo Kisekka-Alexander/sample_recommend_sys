{
 "cells": [
  {
   "cell_type": "code",
   "execution_count": null,
   "metadata": {},
   "outputs": [],
   "source": [
    "import pandas as pd\n",
    "import numpy as np\n",
    "\n",
    "frame = pd.read_csv('data/rating_final.csv')\n",
    "cuisine = pd.read_csv('data/chefmozcuisine.csv')\n",
    "cuisine.head"
   ]
  },
  {
   "cell_type": "code",
   "execution_count": null,
   "metadata": {},
   "outputs": [],
   "source": [
    "# Recommend based on counts\n",
    "\n",
    "rating_count = pd.DataFrame(frame.groupby('placeID')['rating'].count())\n",
    "rating_count.sort_values('rating', ascending=False).head()\n",
    "\n",
    "most_rated_places = pd.DataFrame([135085,132825,135032,135052,132834],index=np.arange(5), columns=['placeID'])\n",
    "summary = pd.merge(most_rated_places,cuisine, on='placeID')\n",
    "summary"
   ]
  },
  {
   "cell_type": "code",
   "execution_count": null,
   "metadata": {},
   "outputs": [],
   "source": [
    "# Making recommendations based on correlation\n"
   ]
  }
 ],
 "metadata": {
  "kernelspec": {
   "display_name": "venv",
   "language": "python",
   "name": "python3"
  },
  "language_info": {
   "codemirror_mode": {
    "name": "ipython",
    "version": 3
   },
   "file_extension": ".py",
   "mimetype": "text/x-python",
   "name": "python",
   "nbconvert_exporter": "python",
   "pygments_lexer": "ipython3",
   "version": "3.10.6"
  },
  "orig_nbformat": 4
 },
 "nbformat": 4,
 "nbformat_minor": 2
}
